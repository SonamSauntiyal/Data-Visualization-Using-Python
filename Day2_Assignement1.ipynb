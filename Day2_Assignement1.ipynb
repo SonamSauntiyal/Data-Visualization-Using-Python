{
  "nbformat": 4,
  "nbformat_minor": 0,
  "metadata": {
    "colab": {
      "name": "Day2_Assignement1",
      "provenance": [],
      "collapsed_sections": [],
      "authorship_tag": "ABX9TyPYqIC7mm12/GaqOd11i9xQ",
      "include_colab_link": true
    },
    "kernelspec": {
      "name": "python3",
      "display_name": "Python 3"
    },
    "language_info": {
      "name": "python"
    }
  },
  "cells": [
    {
      "cell_type": "markdown",
      "metadata": {
        "id": "view-in-github",
        "colab_type": "text"
      },
      "source": [
        "<a href=\"https://colab.research.google.com/github/SonamSauntiyal/Data-Visualization-Using-Python/blob/main/Day2_Assignement1.ipynb\" target=\"_parent\"><img src=\"https://colab.research.google.com/assets/colab-badge.svg\" alt=\"Open In Colab\"/></a>"
      ]
    },
    {
      "cell_type": "code",
      "metadata": {
        "id": "GfJYL2x-cu8s"
      },
      "source": [
        "import matplotlib.pyplot as plt\n",
        "import numpy as np\n",
        "import pandas as pd\n",
        "%matplotlib inline\n",
        "import seaborn as sns\n",
        "from numpy.random import randn, randint,uniform,sample"
      ],
      "execution_count": 2,
      "outputs": []
    },
    {
      "cell_type": "markdown",
      "metadata": {
        "id": "0NiVTNaP0T-2"
      },
      "source": [
        "**Question 1**\n",
        "Create a dataframe with 10 rows on random numbers and 4 columns, (columns labelled as a,b,c,d) and plot a bar chart.\n"
      ]
    },
    {
      "cell_type": "code",
      "metadata": {
        "id": "QMUEqS7K0YzC",
        "colab": {
          "base_uri": "https://localhost:8080/",
          "height": 357
        },
        "outputId": "c62bdbd1-2bc3-4614-9361-07fc6064f92a"
      },
      "source": [
        "df = pd.DataFrame(randn(10, 4), columns=['a', 'b', 'c', 'd'])\n",
        "display(df)\n"
      ],
      "execution_count": 4,
      "outputs": [
        {
          "output_type": "display_data",
          "data": {
            "text/html": [
              "<div>\n",
              "<style scoped>\n",
              "    .dataframe tbody tr th:only-of-type {\n",
              "        vertical-align: middle;\n",
              "    }\n",
              "\n",
              "    .dataframe tbody tr th {\n",
              "        vertical-align: top;\n",
              "    }\n",
              "\n",
              "    .dataframe thead th {\n",
              "        text-align: right;\n",
              "    }\n",
              "</style>\n",
              "<table border=\"1\" class=\"dataframe\">\n",
              "  <thead>\n",
              "    <tr style=\"text-align: right;\">\n",
              "      <th></th>\n",
              "      <th>a</th>\n",
              "      <th>b</th>\n",
              "      <th>c</th>\n",
              "      <th>d</th>\n",
              "    </tr>\n",
              "  </thead>\n",
              "  <tbody>\n",
              "    <tr>\n",
              "      <th>0</th>\n",
              "      <td>-0.243815</td>\n",
              "      <td>0.954469</td>\n",
              "      <td>-0.577852</td>\n",
              "      <td>-0.197513</td>\n",
              "    </tr>\n",
              "    <tr>\n",
              "      <th>1</th>\n",
              "      <td>1.641361</td>\n",
              "      <td>-0.363466</td>\n",
              "      <td>-0.430611</td>\n",
              "      <td>2.688617</td>\n",
              "    </tr>\n",
              "    <tr>\n",
              "      <th>2</th>\n",
              "      <td>0.359071</td>\n",
              "      <td>0.090098</td>\n",
              "      <td>-1.081180</td>\n",
              "      <td>1.380298</td>\n",
              "    </tr>\n",
              "    <tr>\n",
              "      <th>3</th>\n",
              "      <td>-0.953971</td>\n",
              "      <td>-0.845126</td>\n",
              "      <td>0.794114</td>\n",
              "      <td>-0.707001</td>\n",
              "    </tr>\n",
              "    <tr>\n",
              "      <th>4</th>\n",
              "      <td>1.222267</td>\n",
              "      <td>0.292847</td>\n",
              "      <td>0.170937</td>\n",
              "      <td>-0.091263</td>\n",
              "    </tr>\n",
              "    <tr>\n",
              "      <th>5</th>\n",
              "      <td>1.134620</td>\n",
              "      <td>0.127311</td>\n",
              "      <td>-1.718604</td>\n",
              "      <td>-1.151612</td>\n",
              "    </tr>\n",
              "    <tr>\n",
              "      <th>6</th>\n",
              "      <td>-0.735682</td>\n",
              "      <td>-0.510040</td>\n",
              "      <td>-0.722212</td>\n",
              "      <td>-0.410358</td>\n",
              "    </tr>\n",
              "    <tr>\n",
              "      <th>7</th>\n",
              "      <td>1.078921</td>\n",
              "      <td>0.147315</td>\n",
              "      <td>-1.308094</td>\n",
              "      <td>-0.140429</td>\n",
              "    </tr>\n",
              "    <tr>\n",
              "      <th>8</th>\n",
              "      <td>-1.855098</td>\n",
              "      <td>1.036816</td>\n",
              "      <td>0.335937</td>\n",
              "      <td>-0.328786</td>\n",
              "    </tr>\n",
              "    <tr>\n",
              "      <th>9</th>\n",
              "      <td>-0.039079</td>\n",
              "      <td>-0.914466</td>\n",
              "      <td>0.184874</td>\n",
              "      <td>0.685208</td>\n",
              "    </tr>\n",
              "  </tbody>\n",
              "</table>\n",
              "</div>"
            ],
            "text/plain": [
              "          a         b         c         d\n",
              "0 -0.243815  0.954469 -0.577852 -0.197513\n",
              "1  1.641361 -0.363466 -0.430611  2.688617\n",
              "2  0.359071  0.090098 -1.081180  1.380298\n",
              "3 -0.953971 -0.845126  0.794114 -0.707001\n",
              "4  1.222267  0.292847  0.170937 -0.091263\n",
              "5  1.134620  0.127311 -1.718604 -1.151612\n",
              "6 -0.735682 -0.510040 -0.722212 -0.410358\n",
              "7  1.078921  0.147315 -1.308094 -0.140429\n",
              "8 -1.855098  1.036816  0.335937 -0.328786\n",
              "9 -0.039079 -0.914466  0.184874  0.685208"
            ]
          },
          "metadata": {
            "tags": []
          }
        }
      ]
    },
    {
      "cell_type": "code",
      "metadata": {
        "colab": {
          "base_uri": "https://localhost:8080/",
          "height": 279
        },
        "id": "OJ3OelUI-Toq",
        "outputId": "4f36dc38-c610-4bf5-ab2b-315d3175ee6f"
      },
      "source": [
        "df.plot.bar()"
      ],
      "execution_count": null,
      "outputs": [
        {
          "output_type": "execute_result",
          "data": {
            "text/plain": [
              "<matplotlib.axes._subplots.AxesSubplot at 0x7f626b8ed210>"
            ]
          },
          "metadata": {
            "tags": []
          },
          "execution_count": 4
        },
        {
          "output_type": "display_data",
          "data": {
            "image/png": "[encoded data removed]",
            "text/plain": [
              "<Figure size 432x288 with 1 Axes>"
            ]
          },
          "metadata": {
            "tags": [],
            "needs_background": "light"
          }
        }
      ]
    }
  ]
}